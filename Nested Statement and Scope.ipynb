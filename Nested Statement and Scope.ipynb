{
 "cells": [
  {
   "cell_type": "code",
   "execution_count": 1,
   "id": "362260dc",
   "metadata": {},
   "outputs": [],
   "source": [
    "x = 25\n",
    "\n",
    "def printer():\n",
    "    x = 50\n",
    "    return x"
   ]
  },
  {
   "cell_type": "code",
   "execution_count": 2,
   "id": "ddef8a31",
   "metadata": {},
   "outputs": [
    {
     "name": "stdout",
     "output_type": "stream",
     "text": [
      "25\n"
     ]
    }
   ],
   "source": [
    "print(x)"
   ]
  },
  {
   "cell_type": "code",
   "execution_count": 3,
   "id": "e3d8a328",
   "metadata": {},
   "outputs": [
    {
     "name": "stdout",
     "output_type": "stream",
     "text": [
      "50\n"
     ]
    }
   ],
   "source": [
    "print(printer())"
   ]
  },
  {
   "cell_type": "markdown",
   "id": "2d1d92e8",
   "metadata": {},
   "source": [
    "LEGB Rule:\n",
    "L: Local - Names assigned in any way within a function(def or lambda), and not declared global in that function\n",
    "\n",
    "E: Enclosed function locals -- Names in the local scope of any and all enclosing function (def or lambda), from inner to outer\n",
    "\n",
    "G: Global(module) -- Names assigned at the top-level of a module file,\n",
    "or declared global in a def within the file.\n",
    "\n",
    "B: Built-in(python) -- Names preassigned in the built-in names module: open, range, SyntexError,..."
   ]
  },
  {
   "cell_type": "code",
   "execution_count": 4,
   "id": "aa992bbf",
   "metadata": {},
   "outputs": [
    {
     "data": {
      "text/plain": [
       "<function __main__.<lambda>(num)>"
      ]
     },
     "execution_count": 4,
     "metadata": {},
     "output_type": "execute_result"
    }
   ],
   "source": [
    "lambda num: num**2 #Local"
   ]
  },
  {
   "cell_type": "code",
   "execution_count": 7,
   "id": "6312f8c6",
   "metadata": {},
   "outputs": [],
   "source": [
    "#GLobal\n",
    "name = 'THIS IS A GLOBAL STRING'#Enclosing function\n",
    "\n",
    "def greet():\n",
    "    #Enclosing\n",
    "    name = 'Sammy'\n",
    "    \n",
    "    def hello():\n",
    "        #Local\n",
    "        name = 'IM A LOCAL'\n",
    "        print('Hello ' + name)\n",
    "    hello()\n",
    "\n",
    "\n"
   ]
  },
  {
   "cell_type": "code",
   "execution_count": 6,
   "id": "eb5b3249",
   "metadata": {},
   "outputs": [
    {
     "name": "stdout",
     "output_type": "stream",
     "text": [
      "Hello Sammy\n"
     ]
    }
   ],
   "source": [
    "greet()"
   ]
  },
  {
   "cell_type": "code",
   "execution_count": null,
   "id": "1e6e7ca0",
   "metadata": {},
   "outputs": [],
   "source": []
  }
 ],
 "metadata": {
  "kernelspec": {
   "display_name": "Python 3 (ipykernel)",
   "language": "python",
   "name": "python3"
  },
  "language_info": {
   "codemirror_mode": {
    "name": "ipython",
    "version": 3
   },
   "file_extension": ".py",
   "mimetype": "text/x-python",
   "name": "python",
   "nbconvert_exporter": "python",
   "pygments_lexer": "ipython3",
   "version": "3.10.9"
  }
 },
 "nbformat": 4,
 "nbformat_minor": 5
}
