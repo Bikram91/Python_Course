{
 "cells": [
  {
   "cell_type": "code",
   "execution_count": 1,
   "id": "da85b2e3",
   "metadata": {},
   "outputs": [],
   "source": [
    "from IPython.display import clear_output\n",
    "def display_list(board):\n",
    "    clear_output()\n",
    "    print(board[7]+'|'+board[8]+'|'+board[9])\n",
    "    print('- - -')\n",
    "    print(board[4]+'|'+board[5]+'|'+board[6])\n",
    "    print('- - -')\n",
    "    print(board[1]+'|'+board[2]+'|'+board[3])"
   ]
  },
  {
   "cell_type": "code",
   "execution_count": 2,
   "id": "35c9ede5",
   "metadata": {},
   "outputs": [
    {
     "name": "stdout",
     "output_type": "stream",
     "text": [
      " | | \n",
      "- - -\n",
      " | | \n",
      "- - -\n",
      " | | \n"
     ]
    }
   ],
   "source": [
    "test_board = ['#', ' ', ' ', ' ', ' ', ' ', ' ', ' ', ' ', ' ']\n",
    "display_list(test_board)"
   ]
  },
  {
   "cell_type": "code",
   "execution_count": 3,
   "id": "2f7df65c",
   "metadata": {},
   "outputs": [],
   "source": [
    "def player_input():\n",
    "    marker = ''\n",
    "    while marker != 'X' and marker != 'O':\n",
    "        marker = input('Player 1, choose X or O: ').upper()\n",
    "    \n",
    "    player1 = marker\n",
    "    if player1 == 'X':\n",
    "        player2 = 'O'\n",
    "    else:\n",
    "        player2 = 'X'\n",
    "    return (player1, player2)\n",
    "        "
   ]
  },
  {
   "cell_type": "code",
   "execution_count": 4,
   "id": "5eafa139",
   "metadata": {},
   "outputs": [
    {
     "name": "stdout",
     "output_type": "stream",
     "text": [
      "Player 1, choose X or O: X\n"
     ]
    }
   ],
   "source": [
    "player1_marker, player2_marker = player_input()"
   ]
  },
  {
   "cell_type": "code",
   "execution_count": 13,
   "id": "06858adf",
   "metadata": {},
   "outputs": [
    {
     "data": {
      "text/plain": [
       "'X'"
      ]
     },
     "execution_count": 13,
     "metadata": {},
     "output_type": "execute_result"
    }
   ],
   "source": [
    "player1_marker"
   ]
  },
  {
   "cell_type": "code",
   "execution_count": 5,
   "id": "d38087b8",
   "metadata": {},
   "outputs": [
    {
     "data": {
      "text/plain": [
       "'O'"
      ]
     },
     "execution_count": 5,
     "metadata": {},
     "output_type": "execute_result"
    }
   ],
   "source": [
    "player2_marker"
   ]
  },
  {
   "cell_type": "code",
   "execution_count": 6,
   "id": "ba5b047b",
   "metadata": {},
   "outputs": [],
   "source": [
    "def place_marker(board, marker, position):\n",
    "    board[position] = marker"
   ]
  },
  {
   "cell_type": "code",
   "execution_count": 7,
   "id": "d69d2cc3",
   "metadata": {},
   "outputs": [
    {
     "name": "stdout",
     "output_type": "stream",
     "text": [
      " |$| \n",
      "- - -\n",
      " | | \n",
      "- - -\n",
      " | | \n"
     ]
    }
   ],
   "source": [
    "test_board = ['#', ' ', ' ', ' ', ' ', ' ', ' ', ' ', ' ', ' ']\n",
    "place_marker(test_board, '$', 8)\n",
    "display_list(test_board)"
   ]
  },
  {
   "cell_type": "code",
   "execution_count": 8,
   "id": "13688ea1",
   "metadata": {},
   "outputs": [],
   "source": [
    "def win_check(board, mark):\n",
    "    return ((board[1] == board[2]==board[3]) == mark) or ((board[4] == board[5]==board[6]) == mark) or ((board[7] == board[8]==board[9]) == mark) or ((board[1] == board[4]==board[7]) == mark) or ((board[2] == board[5]==board[8]) == mark) or ((board[3] == board[6]==board[9]) == mark) or ((board[1] == board[5]==board[9]) == mark) or ((board[3] == board[5]==board[7]) == mark) #diagonal"
   ]
  },
  {
   "cell_type": "code",
   "execution_count": 9,
   "id": "d449de80",
   "metadata": {},
   "outputs": [
    {
     "name": "stdout",
     "output_type": "stream",
     "text": [
      " |$| \n",
      "- - -\n",
      " | | \n",
      "- - -\n",
      " | | \n"
     ]
    },
    {
     "data": {
      "text/plain": [
       "False"
      ]
     },
     "execution_count": 9,
     "metadata": {},
     "output_type": "execute_result"
    }
   ],
   "source": [
    "display_list(test_board)\n",
    "win_check(test_board, 'X')"
   ]
  },
  {
   "cell_type": "code",
   "execution_count": 10,
   "id": "db4fbf5b",
   "metadata": {},
   "outputs": [],
   "source": [
    "import random\n",
    "\n",
    "def choose_first():\n",
    "    flip = random.randint(0,1)\n",
    "    if flip == 0:\n",
    "        return 'Player 1'\n",
    "    else:\n",
    "        return 'Player 2'"
   ]
  },
  {
   "cell_type": "code",
   "execution_count": 11,
   "id": "976fbb80",
   "metadata": {},
   "outputs": [],
   "source": [
    "def space_check(board, position):\n",
    "    return board[position] == \" \""
   ]
  },
  {
   "cell_type": "code",
   "execution_count": 12,
   "id": "d3eea49e",
   "metadata": {},
   "outputs": [],
   "source": [
    "def full_board_check(board):\n",
    "    for i in range(1,10):\n",
    "        if space_check(board, i):\n",
    "            return False\n",
    "    return True"
   ]
  },
  {
   "cell_type": "code",
   "execution_count": 13,
   "id": "e8d4d5d9",
   "metadata": {},
   "outputs": [],
   "source": [
    "def player_choice(board):\n",
    "    position = 0\n",
    "    while position not in [1,2,3,4,5,6,7,8,9] or not space_check(board, position):\n",
    "        position = int(input('Choose a position: (1-9) '))\n",
    "    return position\n",
    "        \n",
    "    "
   ]
  },
  {
   "cell_type": "code",
   "execution_count": 14,
   "id": "286277df",
   "metadata": {},
   "outputs": [],
   "source": [
    "def replay():\n",
    "    input('Play again? Enter Yes or No')\n",
    "    return choice == 'Yes'"
   ]
  },
  {
   "cell_type": "code",
   "execution_count": null,
   "id": "309dd415",
   "metadata": {},
   "outputs": [
    {
     "name": "stdout",
     "output_type": "stream",
     "text": [
      " | |O\n",
      "- - -\n",
      "X|O| \n",
      "- - -\n",
      "O|X|X\n"
     ]
    }
   ],
   "source": [
    "#while loop to keep running the game\n",
    "print('Welcoome to the Tic tac Toe')\n",
    "while True:\n",
    "    #Play the game \n",
    "    the_board = [' '] * 10\n",
    "    player1_marker, player2_marker = player_input()\n",
    "    \n",
    "    turn = choose_first()\n",
    "    print(turn + ' will go first')\n",
    "    \n",
    "    play_game = input('Ready to play? y or n ')\n",
    "    \n",
    "    if play_game == 'y':\n",
    "        game_on = True\n",
    "    else:\n",
    "        game_on = False\n",
    "        \n",
    "    ##Game Play\n",
    "    while game_on:\n",
    "        if turn == 'Player 1':\n",
    "            #show the board\n",
    "            display_list(the_board)\n",
    "            #choose a position\n",
    "            position = player_choice(the_board)\n",
    "            \n",
    "            #place the marker on the position\n",
    "            place_marker(the_board, player1_marker, position)\n",
    "            \n",
    "            #check if they won'\n",
    "            if win_check(the_board, player1_marker):\n",
    "                display_list(the_board)\n",
    "                print('Player 1 has Won')\n",
    "                game_on = False\n",
    "            else:\n",
    "                if full_board_check(the_board):\n",
    "                    display_list(the_board)\n",
    "                    print(\"Game Tied\")\n",
    "                    break\n",
    "                else:\n",
    "                    turn = 'Player 2'\n",
    "            \n",
    "            #or check if there is a tie\n",
    "            \n",
    "            # No tie or Win? then next player turn\n",
    "        \n",
    "        else:\n",
    "            display_list(the_board)\n",
    "            #choose a position\n",
    "            position = player_choice(the_board)\n",
    "            \n",
    "            #place the marker on the position\n",
    "            place_marker(the_board, player2_marker, position)\n",
    "            \n",
    "            #check if they won'\n",
    "            if win_check(the_board, player2_marker):\n",
    "                display_list(the_board)\n",
    "                print('Player 2 has Won')\n",
    "                game_on = False\n",
    "            else:\n",
    "                if full_board_check(the_board):\n",
    "                    display_list(the_board)\n",
    "                    print(\"Game Tied\")\n",
    "                    break\n",
    "                else:\n",
    "                    turn = 'Player 1'\n",
    "            \n",
    "    \n",
    "    \n",
    "    ##Set Everything up(board, whosfirst, choose marker)\n",
    "\n",
    "#break out of the while loop"
   ]
  },
  {
   "cell_type": "code",
   "execution_count": null,
   "id": "6886d773",
   "metadata": {},
   "outputs": [],
   "source": []
  }
 ],
 "metadata": {
  "kernelspec": {
   "display_name": "Python 3 (ipykernel)",
   "language": "python",
   "name": "python3"
  },
  "language_info": {
   "codemirror_mode": {
    "name": "ipython",
    "version": 3
   },
   "file_extension": ".py",
   "mimetype": "text/x-python",
   "name": "python",
   "nbconvert_exporter": "python",
   "pygments_lexer": "ipython3",
   "version": "3.10.9"
  }
 },
 "nbformat": 4,
 "nbformat_minor": 5
}
